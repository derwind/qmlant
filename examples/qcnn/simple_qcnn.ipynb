{
 "cells": [
  {
   "cell_type": "markdown",
   "id": "99efb5b3-76dd-4a0d-aa95-f1152d374e16",
   "metadata": {},
   "source": [
    "# arXiv:1810.03787 [Quantum Convolutional Neural Networks](https://arxiv.org/abs/1810.03787)"
   ]
  },
  {
   "cell_type": "code",
   "execution_count": null,
   "id": "70e3d955-0b56-4064-8cb3-942d43e8483a",
   "metadata": {},
   "outputs": [],
   "source": [
    "from __future__ import annotations\n",
    "\n",
    "import sys\n",
    "import math\n",
    "import pickle\n",
    "from collections.abc import Sequence\n",
    "import networkx as nx\n",
    "import torch\n",
    "from torch.utils.data import Dataset, DataLoader\n",
    "import numpy as np\n",
    "import cupy as cp\n",
    "from qiskit import QuantumCircuit\n",
    "from qmlant.models import SimpleQCNN\n",
    "from qmlant.neural_networks import (\n",
    "    EstimatorTN,\n",
    "    circuit_to_einsum_expectation,\n",
    ")\n",
    "import qmlant.optim as optim\n",
    "from qmlant.visualization import draw_quimb_tn\n",
    "\n",
    "from qmlant.datasets import HorVerBars"
   ]
  },
  {
   "cell_type": "markdown",
   "id": "ce47772e-5845-4b7f-97a2-f8df1508566e",
   "metadata": {},
   "source": [
    "## Data preparation for HorVerBars"
   ]
  },
  {
   "cell_type": "code",
   "execution_count": null,
   "id": "94eeb1bc-992c-45ae-9a1c-7fb2d1221b1e",
   "metadata": {},
   "outputs": [],
   "source": [
    "data_size = 50\n",
    "\n",
    "trainset, testset = HorVerBars.create_train_and_test(\n",
    "    data_size=data_size,\n",
    "    test_size=0.3,\n",
    ")"
   ]
  },
  {
   "cell_type": "markdown",
   "id": "b2ca471e-8b14-4f20-88d0-68b6c9e270f2",
   "metadata": {},
   "source": [
    "## Quantum circuit"
   ]
  },
  {
   "cell_type": "code",
   "execution_count": null,
   "id": "2198926f-5650-465b-b9e9-d7b0725cf8f6",
   "metadata": {},
   "outputs": [],
   "source": [
    "n_qubits = 8\n",
    "\n",
    "placeholder_circuit = SimpleQCNN.make_placeholder_circuit(n_qubits, insert_barrier=True)\n",
    "display(placeholder_circuit.draw())"
   ]
  },
  {
   "cell_type": "markdown",
   "id": "03c77600-1bda-4090-a352-153aed871695",
   "metadata": {},
   "source": [
    "## Define the Hamiltonian"
   ]
  },
  {
   "cell_type": "code",
   "execution_count": null,
   "id": "05ed848e-8ed6-4a0c-b012-325f8b5dc7e6",
   "metadata": {},
   "outputs": [],
   "source": [
    "hamiltonian = SimpleQCNN.get_hamiltonian(n_qubits)\n",
    "hamiltonian"
   ]
  },
  {
   "cell_type": "markdown",
   "id": "01520f3e-35bd-4b43-8e45-70cee2ea605e",
   "metadata": {},
   "source": [
    "## Check locations of parameters in the TensorNetwork"
   ]
  },
  {
   "cell_type": "code",
   "execution_count": null,
   "id": "68c19fb7-af24-4563-8e41-f40f2f9b49a9",
   "metadata": {},
   "outputs": [],
   "source": [
    "%%time\n",
    "\n",
    "_, _, name2locs = circuit_to_einsum_expectation(placeholder_circuit, hamiltonian)\n",
    "\n",
    "print(name2locs)"
   ]
  },
  {
   "cell_type": "markdown",
   "id": "bfadfa54-65ec-4a55-bae4-23812895b7ca",
   "metadata": {},
   "source": [
    "## Show TensorNetwork structure"
   ]
  },
  {
   "cell_type": "code",
   "execution_count": null,
   "id": "08830531-bf25-4ae7-b0ff-1cac84c44518",
   "metadata": {},
   "outputs": [],
   "source": [
    "draw_quimb_tn(placeholder_circuit, hamiltonian, True)"
   ]
  },
  {
   "cell_type": "markdown",
   "id": "3408acb6-7290-4e8b-be74-1d9c9b1cb01b",
   "metadata": {},
   "source": [
    "## Train the circuit"
   ]
  },
  {
   "cell_type": "code",
   "execution_count": null,
   "id": "f576713a-822c-4cdd-8113-a0b69a01d7c1",
   "metadata": {},
   "outputs": [],
   "source": [
    "class PQCTrainerTN:\n",
    "    def __init__(self,\n",
    "        qc: QuantumCircuit,\n",
    "        initial_point: Sequence[float],\n",
    "        optimizer: optim.Optimizer\n",
    "    ):\n",
    "        self.qc_pl = qc  # placeholder circuit\n",
    "        self.initial_point = np.array(initial_point)\n",
    "        self.optimizer = optimizer\n",
    "\n",
    "    def fit(self,\n",
    "        dataset: Dataset,\n",
    "        batch_size: int,\n",
    "        operator: str,\n",
    "        callbacks: list | None = None,\n",
    "        epochs: int = 1\n",
    "    ) -> None:\n",
    "        expr, operands, pname2locs = circuit_to_einsum_expectation(self.qc_pl, operator)\n",
    "\n",
    "        dataloader = DataLoader(dataset, batch_size, shuffle=True, drop_last=True)\n",
    "        callbacks = callbacks if callbacks is not None else []\n",
    "\n",
    "        opt_loss = sys.maxsize\n",
    "        opt_params = None\n",
    "        params = self.initial_point.copy()\n",
    "        if isinstance(params, list):\n",
    "            params = np.array(params)\n",
    "\n",
    "        make_pname2theta = SimpleQCNN.get_make_pname2theta(n_qubits)\n",
    "        batch_filter = SimpleQCNN.get_batch_filter()\n",
    "        qnn = EstimatorTN(pname2locs, expr, operands, make_pname2theta=make_pname2theta, batch_filter=batch_filter)\n",
    "\n",
    "        for epoch in range(epochs):\n",
    "            for batch, label in dataloader:\n",
    "                batch, label = self._preprocess_batch(batch, label)\n",
    "                label = label.reshape(label.shape[0], -1)\n",
    "\n",
    "                # \"forward\"\n",
    "                expvals = qnn.forward(params, batch)\n",
    "                total_loss = np.mean((expvals - label)**2)\n",
    "\n",
    "                # \"backward\"\n",
    "                # The parameter-shift rule\n",
    "                # [[∂f1/∂θ1, ∂f1/∂θ2, ..., ∂f1/∂θn],\n",
    "                #  [∂f2/∂θ1, ∂f2/∂θ2, ..., ∂f2/∂θn],\n",
    "                #  ...]\n",
    "                grads = qnn.backward()\n",
    "                expvals_minus_label = (expvals - label).reshape(batch.shape[0], -1)\n",
    "                total_grads = np.mean(expvals_minus_label * grads, axis=0)\n",
    "\n",
    "                for callback in callbacks:\n",
    "                    callback(total_loss, params)\n",
    "\n",
    "                # \"update params\"\n",
    "                self.optimizer.update(params, total_grads)\n",
    "\n",
    "    def _preprocess_batch(self,\n",
    "        batch: torch.Tensor,\n",
    "        label: torch.Tensor\n",
    "    ) -> tuple[np.ndarray, np.ndarray]:\n",
    "        batch = batch.detach().numpy()\n",
    "        label = label.detach().numpy()\n",
    "        return batch, label"
   ]
  },
  {
   "cell_type": "code",
   "execution_count": null,
   "id": "e052dd8e-9053-4114-860a-cfdca2743375",
   "metadata": {},
   "outputs": [],
   "source": [
    "def RunPQCTrain(\n",
    "    dataset: Dataset,\n",
    "    batch_size: int,\n",
    "    qc: QuantumCircuit,\n",
    "    operator: str,\n",
    "    init: Sequence[float] | None = None,\n",
    "    epochs: int = 1,\n",
    "    interval: int = 100\n",
    "):\n",
    "    opt_params = None\n",
    "    opt_loss = None\n",
    "\n",
    "    def save_opt_params(loss, params):\n",
    "        nonlocal opt_params, opt_loss\n",
    "\n",
    "        if opt_loss is None or loss < opt_loss:\n",
    "            opt_params = params.copy()\n",
    "            opt_loss = loss\n",
    "\n",
    "    # Store intermediate results\n",
    "    history = {\"loss\": [], \"params\": []}\n",
    "    cnt = -1\n",
    "\n",
    "    def store_intermediate_result(loss, params):\n",
    "        nonlocal cnt\n",
    "\n",
    "        history[\"loss\"].append(loss)\n",
    "        history[\"params\"].append(None)\n",
    "        cnt += 1\n",
    "        if cnt % interval != 0:\n",
    "            return\n",
    "        print(f'{loss=}')\n",
    "\n",
    "    optimizer = optim.Adam(alpha=0.01)\n",
    "    trainer = PQCTrainerTN(qc=qc, initial_point=init, optimizer=optimizer)\n",
    "    trainer.fit(dataset, batch_size, operator,\n",
    "                callbacks=[save_opt_params, store_intermediate_result],\n",
    "                epochs=epochs)\n",
    "\n",
    "    return opt_params, history[\"loss\"]"
   ]
  },
  {
   "cell_type": "code",
   "execution_count": null,
   "id": "ff329179-25bf-4802-98bc-4295d5e54c2d",
   "metadata": {},
   "outputs": [],
   "source": [
    "%%time\n",
    "\n",
    "_, length = SimpleQCNN.make_placeholder_circuit(n_qubits, dry_run=True)\n",
    "placeholder_circuit = SimpleQCNN.make_placeholder_circuit(n_qubits)\n",
    "\n",
    "np.random.seed(10)\n",
    "init = np.random.random(length) * 2*math.pi\n",
    "\n",
    "opt_params, loss_list = RunPQCTrain(trainset, len(trainset),\n",
    "                                    placeholder_circuit, hamiltonian, init=init,\n",
    "                                    epochs=50, interval=10)\n",
    "\n",
    "print(f'final loss={loss_list[-1]}')\n",
    "print(f'{opt_params=}')"
   ]
  },
  {
   "cell_type": "markdown",
   "id": "873b1e7c-2e2c-47fd-a0e1-cfe37e2e8e3a",
   "metadata": {},
   "source": [
    "## Validate results\n",
    "\n",
    "### Measure test acc"
   ]
  },
  {
   "cell_type": "code",
   "execution_count": null,
   "id": "32f50346-4f31-440b-8d30-1fbe077d8d69",
   "metadata": {},
   "outputs": [],
   "source": [
    "testloader = DataLoader(testset, len(testset))\n",
    "\n",
    "qc_pl = SimpleQCNN.make_placeholder_circuit(n_qubits)\n",
    "expr, operands, pname2locs = circuit_to_einsum_expectation(qc_pl, hamiltonian)\n",
    "\n",
    "make_pname2theta = SimpleQCNN.get_make_pname2theta(n_qubits)\n",
    "pname2theta = make_pname2theta(opt_params)\n",
    "batch_filter = SimpleQCNN.get_batch_filter()\n",
    "qnn = EstimatorTN(pname2locs, expr, operands, make_pname2theta=make_pname2theta, batch_filter=batch_filter)\n",
    "\n",
    "total = 0\n",
    "total_correct = 0\n",
    "\n",
    "for i, (batch, label) in enumerate(testloader):\n",
    "    batch, label = batch.detach().numpy(), label.detach().numpy()\n",
    "    batch = batch_filter(batch)\n",
    "    label = label.reshape(label.shape[0], -1)\n",
    "\n",
    "    # \"forward\"\n",
    "    expvals = qnn.forward(opt_params, batch)\n",
    "    expvals = expvals.reshape(expvals.shape[0], -1)\n",
    "\n",
    "    predict_labels = np.sign(expvals)\n",
    "\n",
    "    total_correct += np.sum(predict_labels == label)\n",
    "    total += batch.shape[0]\n",
    "\n",
    "print(f'test acc={np.round(total_correct/total, 2)}')"
   ]
  },
  {
   "cell_type": "markdown",
   "id": "b8671c15-69ac-439d-8700-c63df8e5a4de",
   "metadata": {},
   "source": [
    "### Visualize loss_list"
   ]
  },
  {
   "cell_type": "code",
   "execution_count": null,
   "id": "e0cf9846-0279-40ee-b796-7d3d250b209e",
   "metadata": {},
   "outputs": [],
   "source": [
    "import matplotlib.pyplot as plt\n",
    "\n",
    "plt.plot(range(len(loss_list)), loss_list)\n",
    "plt.show()"
   ]
  },
  {
   "cell_type": "markdown",
   "id": "25fe8824-8b10-4449-9a7f-5b47828d30cd",
   "metadata": {},
   "source": [
    "# Appendix\n",
    "\n",
    "## Using SciPy optimizers"
   ]
  },
  {
   "cell_type": "code",
   "execution_count": null,
   "id": "9bb60bba-a53b-4ae7-b53b-a5da443ecfba",
   "metadata": {},
   "outputs": [],
   "source": [
    "from scipy.optimize import minimize"
   ]
  },
  {
   "cell_type": "code",
   "execution_count": null,
   "id": "37acd3f9-d716-405a-866a-ec9bbb35f007",
   "metadata": {},
   "outputs": [],
   "source": [
    "class PQCTrainerTN_COBYLA:\n",
    "    def __init__(self,\n",
    "        qc: QuantumCircuit,\n",
    "        initial_point: Sequence[float]\n",
    "    ):\n",
    "        self.qc_pl = qc  # placeholder circuit\n",
    "        self.initial_point = np.array(initial_point)\n",
    "\n",
    "    def fit(self,\n",
    "        dataset: Dataset,\n",
    "        operator: str,\n",
    "        callbacks: list[Callable] | None = None,\n",
    "        epochs: int = 1\n",
    "    ) -> None:\n",
    "        expr, operands, pname2locs = circuit_to_einsum_expectation(self.qc_pl, operator)\n",
    "\n",
    "        # full batch\n",
    "        dataloader = DataLoader(dataset, len(dataset), shuffle=True, drop_last=True)\n",
    "        callbacks = callbacks if callbacks is not None else []\n",
    "\n",
    "        opt_loss = sys.maxsize\n",
    "        opt_params = None\n",
    "        params = self.initial_point.copy()\n",
    "        if isinstance(params, list):\n",
    "            params = np.array(params)\n",
    "\n",
    "        make_pname2theta = SimpleQCNN.get_make_pname2theta(n_qubits)\n",
    "        batch_filter = SimpleQCNN.get_batch_filter()\n",
    "        qnn = EstimatorTN(pname2locs, expr, operands, make_pname2theta=make_pname2theta, batch_filter=batch_filter)\n",
    "\n",
    "        batch, label = next(iter(dataloader))\n",
    "        batch, label = self._preprocess_batch(batch, label)\n",
    "        label = label.reshape(label.shape[0], -1)\n",
    "        \n",
    "        loss_list = []\n",
    "\n",
    "        def cost(x, *args) -> float:\n",
    "            nonlocal loss_list, callbacks\n",
    "            \n",
    "            params = x\n",
    "            qnn, batch, label = args\n",
    "            expvals = qnn.forward(params, batch)\n",
    "            loss = np.mean((expvals - label)**2)\n",
    "\n",
    "            for callback in callbacks:\n",
    "                callback(loss, params)\n",
    "\n",
    "            loss_list.append(loss)\n",
    "            return loss\n",
    "\n",
    "        result = minimize(\n",
    "            cost,\n",
    "            params,\n",
    "            args=(qnn, batch, label),\n",
    "            method=\"COBYLA\",\n",
    "            options={\n",
    "                \"maxiter\": epochs\n",
    "            },\n",
    "        )\n",
    "        return result, loss_list\n",
    "\n",
    "    def _preprocess_batch(self,\n",
    "        batch: torch.Tensor,\n",
    "        label: torch.Tensor\n",
    "    ) -> tuple[np.ndarray, np.ndarray]:\n",
    "        batch = batch.detach().numpy()\n",
    "        label = label.detach().numpy()\n",
    "        return batch, label"
   ]
  },
  {
   "cell_type": "code",
   "execution_count": null,
   "id": "3f42a392-3b03-49a1-9c68-8edf668bb691",
   "metadata": {},
   "outputs": [],
   "source": [
    "def RunPQCTrain_COBYLA(\n",
    "    dataset: Dataset,\n",
    "    qc: QuantumCircuit,\n",
    "    operator: str,\n",
    "    init: Sequence[float] | None = None,\n",
    "    epochs: int = 1,\n",
    "    interval: int = 100\n",
    "):\n",
    "    opt_params = None\n",
    "    opt_loss = None\n",
    "\n",
    "    def save_opt_params(loss, params):\n",
    "        nonlocal opt_params, opt_loss\n",
    "\n",
    "        if opt_loss is None or loss < opt_loss:\n",
    "            opt_params = params.copy()\n",
    "            opt_loss = loss\n",
    "\n",
    "    # Store intermediate results\n",
    "    history = {\"loss\": [], \"params\": []}\n",
    "    cnt = -1\n",
    "\n",
    "    def store_intermediate_result(loss, params):\n",
    "        nonlocal cnt\n",
    "\n",
    "        history[\"loss\"].append(loss)\n",
    "        history[\"params\"].append(None)\n",
    "        cnt += 1\n",
    "        if cnt % interval != 0:\n",
    "            return\n",
    "        print(f'{loss=}')\n",
    "    \n",
    "    trainer = PQCTrainerTN_COBYLA(qc=qc, initial_point=init)\n",
    "    result, loss_list = trainer.fit(\n",
    "        dataset,\n",
    "        operator,\n",
    "        callbacks=[save_opt_params, store_intermediate_result],\n",
    "        epochs=epochs\n",
    "    )\n",
    "\n",
    "    return result[\"x\"], loss_list"
   ]
  },
  {
   "cell_type": "code",
   "execution_count": null,
   "id": "3e57f23f-8945-479b-8756-df0412f2aff5",
   "metadata": {},
   "outputs": [],
   "source": [
    "%%time\n",
    "\n",
    "_, length = SimpleQCNN.make_placeholder_circuit(n_qubits, dry_run=True)\n",
    "placeholder_circuit = SimpleQCNN.make_placeholder_circuit(n_qubits)\n",
    "\n",
    "np.random.seed(10)\n",
    "init = np.random.random(length) * 2*math.pi\n",
    "\n",
    "opt_params, loss_list = RunPQCTrain_COBYLA(\n",
    "    trainset, placeholder_circuit, hamiltonian, init=init, epochs=50, interval=10\n",
    ")\n",
    "\n",
    "print(f'final loss={loss_list[-1]}')\n",
    "print(f'{opt_params=}')"
   ]
  },
  {
   "cell_type": "code",
   "execution_count": null,
   "id": "20cb8eab-8e1b-4572-8246-fc3aed99e599",
   "metadata": {},
   "outputs": [],
   "source": [
    "testloader = DataLoader(testset, len(testset))\n",
    "\n",
    "qc_pl = SimpleQCNN.make_placeholder_circuit(n_qubits)\n",
    "expr, operands, pname2locs = circuit_to_einsum_expectation(qc_pl, hamiltonian)\n",
    "\n",
    "make_pname2theta = SimpleQCNN.get_make_pname2theta(n_qubits)\n",
    "pname2theta = make_pname2theta(opt_params)\n",
    "batch_filter = SimpleQCNN.get_batch_filter()\n",
    "qnn = EstimatorTN(pname2locs, expr, operands, make_pname2theta=make_pname2theta, batch_filter=batch_filter)\n",
    "\n",
    "total = 0\n",
    "total_correct = 0\n",
    "\n",
    "for i, (batch, label) in enumerate(testloader):\n",
    "    batch, label = batch.detach().numpy(), label.detach().numpy()\n",
    "    batch = batch_filter(batch)\n",
    "    label = label.reshape(label.shape[0], -1)\n",
    "\n",
    "    # \"forward\"\n",
    "    expvals = qnn.forward(opt_params, batch)\n",
    "    expvals = expvals.reshape(expvals.shape[0], -1)\n",
    "\n",
    "    predict_labels = np.ones_like(expvals)\n",
    "    predict_labels[np.where(expvals < 0)] = -1\n",
    "    predict_labels = predict_labels.astype(int)\n",
    "\n",
    "    total_correct += np.sum(predict_labels == label)\n",
    "    total += batch.shape[0]\n",
    "\n",
    "print(f'test acc={np.round(total_correct/total, 2)}')"
   ]
  },
  {
   "cell_type": "code",
   "execution_count": null,
   "id": "d3f8e17a-23e7-4c78-8899-882da2f689cc",
   "metadata": {},
   "outputs": [],
   "source": [
    "import matplotlib.pyplot as plt\n",
    "\n",
    "plt.plot(range(len(loss_list)), loss_list)\n",
    "plt.show()"
   ]
  }
 ],
 "metadata": {
  "kernelspec": {
   "display_name": "Python 3 (ipykernel)",
   "language": "python",
   "name": "python3"
  },
  "language_info": {
   "codemirror_mode": {
    "name": "ipython",
    "version": 3
   },
   "file_extension": ".py",
   "mimetype": "text/x-python",
   "name": "python",
   "nbconvert_exporter": "python",
   "pygments_lexer": "ipython3",
   "version": "3.10.9"
  }
 },
 "nbformat": 4,
 "nbformat_minor": 5
}
