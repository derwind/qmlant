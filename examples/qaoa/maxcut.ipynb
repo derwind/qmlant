{
 "cells": [
  {
   "cell_type": "markdown",
   "id": "ea37d650-806a-43ab-a2ad-835641c8a390",
   "metadata": {},
   "source": [
    "# Max cut problem\n",
    "\n",
    "## cuTensorNet\n",
    "\n",
    "https://github.com/NVIDIA/cuQuantum/blob/main/python/samples/cutensornet/circuit_converter/qiskit_advanced.ipynb"
   ]
  },
  {
   "cell_type": "code",
   "execution_count": null,
   "id": "a7462a94-7b0b-4b52-b1b5-0adb0adae416",
   "metadata": {},
   "outputs": [],
   "source": [
    "from __future__ import annotations\n",
    "\n",
    "import time\n",
    "from collections.abc import Sequence\n",
    "import matplotlib.pyplot as plt\n",
    "\n",
    "import numpy as np\n",
    "from scipy.optimize import minimize\n",
    "from qiskit import QuantumCircuit, transpile\n",
    "from qiskit.quantum_info import SparsePauliOp\n",
    "from qiskit.circuit import ParameterVector\n",
    "from qiskit.circuit.library import QAOAAnsatz\n",
    "from qiskit_aer import AerSimulator\n",
    "\n",
    "import cupy as cp\n",
    "\n",
    "from qmlant.neural_networks import EstimatorTN\n",
    "from qmlant.models.vqe import (\n",
    "    SimpleQAOA, IsingConverter, HamiltonianConverter, QAOAMixer, circuit_to_einsum_expectation\n",
    ")\n",
    "from qmlant.visualization import draw_quimb_tn"
   ]
  },
  {
   "cell_type": "markdown",
   "id": "869ce5cd-972d-4158-bd48-9f9df78d77ce",
   "metadata": {},
   "source": [
    "## QAOA Quantum Circuit"
   ]
  },
  {
   "cell_type": "code",
   "execution_count": null,
   "id": "c468cac9-d8c3-4654-897f-3c30565e92a8",
   "metadata": {},
   "outputs": [],
   "source": [
    "n_qubits = 5\n",
    "n_reps = 3\n",
    "\n",
    "betas = ParameterVector(\"β\", n_reps)\n",
    "gammas = ParameterVector(\"γ\", n_reps)\n",
    "beta_idx = iter(range(n_reps))\n",
    "bi = lambda: next(beta_idx)\n",
    "gamma_idx = iter(range(n_reps))\n",
    "gi = lambda: next(gamma_idx)\n",
    "\n",
    "qc = QuantumCircuit(n_qubits)\n",
    "qc.h(qc.qregs[0][:])\n",
    "for _ in range(n_reps):\n",
    "    gamma = gammas[gi()]\n",
    "    qc.rzz(gamma, 0, 1)\n",
    "    qc.rzz(gamma, 0, 2)\n",
    "    qc.rzz(gamma, 1, 3)\n",
    "    qc.rzz(gamma, 2, 3)\n",
    "    qc.rzz(gamma, 2, 4)\n",
    "    qc.rzz(gamma, 3, 4)\n",
    "    qc.barrier()\n",
    "    beta = betas[bi()]\n",
    "    for i in range(n_qubits):\n",
    "        qc.rx(beta, i)\n",
    "\n",
    "qc.draw(fold=-1)"
   ]
  },
  {
   "cell_type": "code",
   "execution_count": null,
   "id": "96dc7725-888c-488e-b2e0-4acbdefa1a5c",
   "metadata": {},
   "outputs": [],
   "source": [
    "hamiltonian = [\"ZZIII\", \"ZIZII\", \"IZIZI\", \"IIZZI\", \"IIZIZ\", \"IIIZZ\"]\n",
    "\n",
    "expr, operands, pname2locs = circuit_to_einsum_expectation(\n",
    "    qc, hamiltonian, qaoa_mixer=QAOAMixer.X_MIXER\n",
    ")\n",
    "make_pname2theta = operands[\"make_pname2theta\"]"
   ]
  },
  {
   "cell_type": "markdown",
   "id": "05f5a42b-1abc-4484-8a60-c84c4875f90f",
   "metadata": {},
   "source": [
    "## Optimization"
   ]
  },
  {
   "cell_type": "code",
   "execution_count": null,
   "id": "f99a4b92-83ac-45f6-a0ea-eb5ff7870353",
   "metadata": {},
   "outputs": [],
   "source": [
    "losses = []\n",
    "count = 0\n",
    "estimator = EstimatorTN(pname2locs, expr, operands)\n",
    "\n",
    "def compute_expectation_tn(params, *args):\n",
    "    global count, n_reps\n",
    "    (estimator,) = args\n",
    "    time_start = time.time()\n",
    "    energy = estimator.forward(params)\n",
    "    if count % 50 == 0:\n",
    "        print(f\"[{count}] {energy} (elapsed={round(time.time() - time_start, 3)}s)\")\n",
    "    count += 1\n",
    "\n",
    "    losses.append(energy)\n",
    "\n",
    "    return energy"
   ]
  },
  {
   "cell_type": "code",
   "execution_count": null,
   "id": "afec7d0b-5bf8-4bec-8ec9-29ed517b283c",
   "metadata": {},
   "outputs": [],
   "source": [
    "%%time\n",
    "\n",
    "rng = np.random.default_rng(42)\n",
    "init = rng.random(qc.num_parameters) * 2*np.pi\n",
    "\n",
    "result = minimize(\n",
    "    compute_expectation_tn,\n",
    "    init,\n",
    "    args=(estimator,),\n",
    "    method=\"COBYLA\",\n",
    "    options={\n",
    "        \"maxiter\": 500\n",
    "    },\n",
    ")\n",
    "\n",
    "print(result.message)\n",
    "print(f\"opt value={round(result.fun, 3)}\")"
   ]
  },
  {
   "cell_type": "markdown",
   "id": "7f71e89a-38b9-476f-801f-7a761807cb99",
   "metadata": {},
   "source": [
    "## Validate Results"
   ]
  },
  {
   "cell_type": "code",
   "execution_count": null,
   "id": "a4cccf5f-c87e-4fe6-a50b-43f9c25b6972",
   "metadata": {},
   "outputs": [],
   "source": [
    "mapping = make_pname2theta(result.x)\n",
    "parameter2value = {param: mapping[param.name] for param in qc.parameters}\n",
    "opt_qc = qc.bind_parameters(parameter2value)\n",
    "opt_qc.measure_all()\n",
    "\n",
    "sim = AerSimulator()\n",
    "t_qc = transpile(opt_qc, backend=sim)\n",
    "counts = sim.run(t_qc).result().get_counts()\n",
    "for k, n in sorted(counts.items(), key=lambda k_v: -k_v[1]):\n",
    "    if n < 100:\n",
    "        continue\n",
    "    print(k[::-1], n)"
   ]
  },
  {
   "cell_type": "markdown",
   "id": "7991dab3-cda3-40ef-b121-c00673033579",
   "metadata": {},
   "source": [
    "## Visualization"
   ]
  },
  {
   "cell_type": "code",
   "execution_count": null,
   "id": "64f7b182-15cd-4aa4-bccd-31e7baa8d3ff",
   "metadata": {},
   "outputs": [],
   "source": [
    "plt.figure()\n",
    "x = np.arange(0, len(losses), 1)\n",
    "plt.plot(x, losses, color=\"blue\")\n",
    "plt.show()"
   ]
  },
  {
   "cell_type": "code",
   "execution_count": null,
   "id": "7d032a98-8a55-4210-8036-c2b01ef315d2",
   "metadata": {},
   "outputs": [],
   "source": [
    "qubit_op = SparsePauliOp([ham[::-1] for ham in hamiltonian])\n",
    "draw_quimb_tn(qc, qubit_op, True)"
   ]
  }
 ],
 "metadata": {
  "kernelspec": {
   "display_name": "Python 3 (ipykernel)",
   "language": "python",
   "name": "python3"
  },
  "language_info": {
   "codemirror_mode": {
    "name": "ipython",
    "version": 3
   },
   "file_extension": ".py",
   "mimetype": "text/x-python",
   "name": "python",
   "nbconvert_exporter": "python",
   "pygments_lexer": "ipython3",
   "version": "3.10.9"
  }
 },
 "nbformat": 4,
 "nbformat_minor": 5
}
