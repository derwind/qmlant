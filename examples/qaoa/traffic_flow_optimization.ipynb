{
 "cells": [
  {
   "cell_type": "code",
   "execution_count": null,
   "id": "c5283cb7-a84f-443a-b58c-e5e9b1ec2e63",
   "metadata": {},
   "outputs": [],
   "source": [
    "from __future__ import annotations\n",
    "\n",
    "import time\n",
    "from collections.abc import Callable, Sequence\n",
    "import matplotlib.pyplot as plt\n",
    "\n",
    "from tytan import symbols_list, Compile\n",
    "\n",
    "import numpy as np\n",
    "from scipy.optimize import minimize\n",
    "from qiskit import QuantumCircuit, transpile\n",
    "from qiskit.quantum_info import SparsePauliOp\n",
    "from qiskit.circuit import ParameterVector\n",
    "from qiskit.circuit.library import QAOAAnsatz\n",
    "from qiskit_aer import AerSimulator\n",
    "\n",
    "from qmlant.models.vqe import (\n",
    "    HamiltonianConverter, IsingConverter, QAOAMixer, circuit_to_einsum_expectation\n",
    ")\n",
    "from qmlant.neural_networks.estimator_tn import EstimatorTN"
   ]
  },
  {
   "cell_type": "markdown",
   "id": "e8f179cf-f068-412c-8c6c-b1dc1cff8f2f",
   "metadata": {},
   "source": [
    "## QUBO"
   ]
  },
  {
   "cell_type": "code",
   "execution_count": null,
   "id": "25842583-f23a-4a91-a697-a7f6d1e0bf08",
   "metadata": {},
   "outputs": [],
   "source": [
    "q = symbols_list(4, \"q{}\")\n",
    "C = (q[0] + q[1] + q[2]) ** 2 + \\\n",
    "    q[3] ** 2 + \\\n",
    "    (q[0] + q[1] + q[2]) ** 2 + \\\n",
    "    q[0] ** 2 + \\\n",
    "    q[3] ** 2 + \\\n",
    "    (q[1] + q[2]) ** 2 + \\\n",
    "    q[0] ** 2 + \\\n",
    "    q[3] ** 2 + \\\n",
    "    (q[1] + q[2] + q[3]) ** 2\n",
    "\n",
    "Q, offset = Compile(C).get_qubo()\n",
    "ising_dict, additional_offset = IsingConverter(Q).get_ising()\n",
    "hamiltonian, coefficients = HamiltonianConverter(ising_dict).get_hamiltonian()"
   ]
  },
  {
   "cell_type": "markdown",
   "id": "2b8d9957-99a1-452d-8dc9-4b8442cf7d63",
   "metadata": {},
   "source": [
    "## QAOA Quantum Circuit"
   ]
  },
  {
   "cell_type": "code",
   "execution_count": null,
   "id": "4e9da526-b98f-4444-a94c-b08d8016b8ec",
   "metadata": {},
   "outputs": [],
   "source": [
    "def make_initial_state_circuit():\n",
    "    qc = QuantumCircuit(4)\n",
    "    qc.h(0)\n",
    "    qc.cx(0, 1)\n",
    "    qc.x(0)\n",
    "    qc.h(2)\n",
    "    qc.cx(2, 3)\n",
    "    qc.x(2)\n",
    "    return qc\n",
    "\n",
    "def make_placeholder_circuit(\n",
    "    ising_dict: dict[tuple[str] | tuple[str, str], float],\n",
    "    n_reps: int = 1,\n",
    "    insert_barrier: bool = ...,\n",
    ") -> tuple[QuantumCircuit, Callable[[Sequence[float] | np.ndarray], dict[str, float]]] | int:\n",
    "    param_names = []\n",
    "\n",
    "    betas = ParameterVector(\"β\", n_reps)\n",
    "    beta_idx = iter(range(n_reps))\n",
    "\n",
    "    def bi():\n",
    "        return next(beta_idx)\n",
    "\n",
    "    gammas = ParameterVector(\"γ\", n_reps)\n",
    "    gamma_idx = iter(range(n_reps))\n",
    "\n",
    "    def gi():\n",
    "        return next(gamma_idx)\n",
    "\n",
    "    qc = make_initial_state_circuit()\n",
    "\n",
    "    if insert_barrier:\n",
    "        qc.barrier()\n",
    "\n",
    "    for _ in range(n_reps):\n",
    "        # H_P\n",
    "        gamma = gammas[gi()]\n",
    "        param_names.append(gamma.name)\n",
    "\n",
    "        for k in ising_dict:\n",
    "            if len(k) == 1:\n",
    "                left = k[0]\n",
    "                ln = int(left[1:])\n",
    "                qc.rz(gamma, ln)\n",
    "            elif len(k) == 2:\n",
    "                left, right = k  # type: ignore\n",
    "                ln = int(left[1:])\n",
    "                rn = int(right[1:])\n",
    "                assert ln <= rn\n",
    "                qc.rzz(gamma, ln, rn)\n",
    "            else:\n",
    "                raise ValueError(f\"len(k) = {len(k)} must be one or two.\")\n",
    "\n",
    "        if insert_barrier:\n",
    "            qc.barrier()\n",
    "\n",
    "        # H_M\n",
    "        beta = betas[bi()]\n",
    "        param_names.append(beta.name)\n",
    "\n",
    "        qc.rxx(beta, 0, 1)\n",
    "        qc.ryy(beta, 0, 1)\n",
    "        qc.rxx(beta, 2, 3)\n",
    "        qc.ryy(beta, 2, 3)\n",
    "\n",
    "        if insert_barrier:\n",
    "            qc.barrier()\n",
    "\n",
    "    return qc"
   ]
  },
  {
   "cell_type": "code",
   "execution_count": null,
   "id": "80c91e77-1382-4587-abf2-53c1b6b4771f",
   "metadata": {},
   "outputs": [],
   "source": [
    "n_reps = 2\n",
    "\n",
    "qc = make_placeholder_circuit(ising_dict, n_reps=n_reps)\n",
    "qc.draw()"
   ]
  },
  {
   "cell_type": "code",
   "execution_count": null,
   "id": "63537e2e-1254-402b-8422-22c4a371f00a",
   "metadata": {},
   "outputs": [],
   "source": [
    "expr, operands, pname2locs = circuit_to_einsum_expectation(\n",
    "    qc,\n",
    "    hamiltonian,\n",
    "    coefficients,\n",
    "    qaoa_mixer=QAOAMixer.XY_MIXER,\n",
    ")"
   ]
  },
  {
   "cell_type": "markdown",
   "id": "80ed7569-1b9f-4861-88ff-0ddbe3d541ee",
   "metadata": {},
   "source": [
    "## Optimization"
   ]
  },
  {
   "cell_type": "code",
   "execution_count": null,
   "id": "1e00cc80-ca70-4dd6-8742-e459c8e7a42d",
   "metadata": {},
   "outputs": [],
   "source": [
    "losses = []\n",
    "count = 0\n",
    "\n",
    "estimator = EstimatorTN(pname2locs, expr, operands)\n",
    "\n",
    "def compute_expectation_tn(params, *args):\n",
    "    global count\n",
    "    (estimator,) = args\n",
    "    time_start = time.time()\n",
    "    energy = estimator.forward(params)\n",
    "    if count % 10 == 0:\n",
    "        print(f\"[{count}] {energy} (elapsed={round(time.time() - time_start, 3)}s)\")\n",
    "    count += 1\n",
    "\n",
    "    losses.append(energy)\n",
    "\n",
    "    return energy"
   ]
  },
  {
   "cell_type": "code",
   "execution_count": null,
   "id": "86ddf9a1-9286-4b50-a43c-31c8ff1f32fe",
   "metadata": {},
   "outputs": [],
   "source": [
    "%%time\n",
    "\n",
    "rng = np.random.default_rng(42)\n",
    "init = rng.random(qc.num_parameters) * 2*np.pi\n",
    "\n",
    "result = minimize(\n",
    "    compute_expectation_tn,\n",
    "    init,\n",
    "    args=(estimator,),\n",
    "    method=\"COBYLA\",\n",
    "    options={\n",
    "        \"maxiter\": 100\n",
    "    },\n",
    ")\n",
    "\n",
    "print(result.message)\n",
    "print(f\"opt value={round(result.fun, 3)}\")"
   ]
  },
  {
   "cell_type": "markdown",
   "id": "4dd9cbc0-1bd4-4e0b-b2aa-e9f697b0fff4",
   "metadata": {},
   "source": [
    "## Validate Results"
   ]
  },
  {
   "cell_type": "code",
   "execution_count": null,
   "id": "6668b813-d520-4863-9d51-671ca6bdc5ab",
   "metadata": {},
   "outputs": [],
   "source": [
    "%%time\n",
    "\n",
    "qubit_op = SparsePauliOp(\n",
    "    [ham[::-1] for ham in hamiltonian],\n",
    "    coefficients,\n",
    ")\n",
    "\n",
    "mixer = SparsePauliOp([\"XXII\", \"YYII\", \"IIXX\", \"IIYY\"], [1/2, 1/2, 1/2, 1/2])\n",
    "\n",
    "ansatz = QAOAAnsatz(\n",
    "    cost_operator=qubit_op,\n",
    "    reps=n_reps,\n",
    "    initial_state=make_initial_state_circuit(),\n",
    "    mixer_operator=mixer,\n",
    "    name='QAOA',\n",
    "    flatten=None,\n",
    ")\n",
    "\n",
    "mapping = operands[\"make_pname2theta\"](result.x)\n",
    "parameter2value = {param: mapping[param.name] for param in ansatz.parameters}\n",
    "opt_ansatz = ansatz.bind_parameters(parameter2value)\n",
    "opt_ansatz.measure_all()\n",
    "\n",
    "sim = AerSimulator(device=\"GPU\", method=\"tensor_network\")\n",
    "t_qc = transpile(opt_ansatz, backend=sim)\n",
    "shots = 1024*50\n",
    "counts = sim.run(t_qc, shots=shots).result().get_counts()"
   ]
  },
  {
   "cell_type": "code",
   "execution_count": null,
   "id": "853e624f-322b-41f9-b2e4-76e77c28a399",
   "metadata": {},
   "outputs": [],
   "source": [
    "for k, n in sorted(counts.items(), key=lambda k_v: -k_v[1]):\n",
    "    state = k[::-1]  # reverse order\n",
    "    print(state, n, f\"({round(n*100/shots, 2)}%)\")"
   ]
  },
  {
   "cell_type": "markdown",
   "id": "8b247353-742a-437b-96fb-1a22e2e4b70b",
   "metadata": {},
   "source": [
    "## Visualization"
   ]
  },
  {
   "cell_type": "code",
   "execution_count": null,
   "id": "50a40539-62ce-47d9-a5ae-e8e1a956ddea",
   "metadata": {},
   "outputs": [],
   "source": [
    "plt.figure()\n",
    "x = np.arange(0, len(losses), 1)\n",
    "plt.plot(x, losses, color=\"blue\")\n",
    "plt.show()"
   ]
  }
 ],
 "metadata": {
  "kernelspec": {
   "display_name": "Python 3 (ipykernel)",
   "language": "python",
   "name": "python3"
  },
  "language_info": {
   "codemirror_mode": {
    "name": "ipython",
    "version": 3
   },
   "file_extension": ".py",
   "mimetype": "text/x-python",
   "name": "python",
   "nbconvert_exporter": "python",
   "pygments_lexer": "ipython3",
   "version": "3.10.9"
  }
 },
 "nbformat": 4,
 "nbformat_minor": 5
}
